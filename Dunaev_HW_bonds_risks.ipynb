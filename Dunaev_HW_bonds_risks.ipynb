{
 "cells": [
  {
   "cell_type": "markdown",
   "metadata": {
    "id": "uSRLc91UeH4c"
   },
   "source": [
    "# Задача 1 \n",
    "Посчитать численно $DV01$ как разностную производную.\n",
    "1. Номер выпуска облигации определяет функция getBond ниже\n",
    "1. Процентные ставки известны ниже curve_tenors, curve_rates\n",
    "1. Использоватье линейную интерполяцию кубическими сплайнами (см. пример ниже)\n",
    "\n",
    "\n",
    "Данные о выпуске облигаций доступны по ссылке \n",
    "https://www.efd.admin.ch/efd/en/home/the-fdf/nsb-news_list.msg-id-85031.html"
   ]
  },
  {
   "cell_type": "markdown",
   "metadata": {
    "id": "1WJGTACAeH4m"
   },
   "source": [
    "$$ PV  = PV (r_1, r_2, r_3, ..., r_N) = \\sum \\limits_{i=1}^{N} \\frac{C_i}{(1 + r_i)^{t_i}} $$\n",
    "где $r_i$ - значение ставки, $C_i$ - выплата в день купонного платежа под номером $i$\n",
    "\n",
    "$$ DV01 (r_1, r_2,  ..., r_N) = \\lim \\limits_{\\delta \\to 0} \\frac{PV (r_1 + \\delta r, r_2 + \\delta r, ..., r_N + \\delta r) - PV (r_1, r_2,  ..., r_N)}{\\delta}  \\approx\n",
    "\\frac{PV (r_1 + \\Delta r, r_2 + \\Delta r, ..., r_N + \\Delta r) - PV (r_1 - \\Delta r, r_2 - \\Delta r, ..., r_N - \\Delta r)}{2 \\Delta r}$$"
   ]
  },
  {
   "cell_type": "code",
   "execution_count": 1,
   "metadata": {
    "scrolled": true
   },
   "outputs": [
    {
     "data": {
      "text/plain": [
       "<matplotlib.legend.Legend at 0x7fa4d7816fa0>"
      ]
     },
     "execution_count": 1,
     "metadata": {},
     "output_type": "execute_result"
    },
    {
     "data": {
      "image/png": "[encoded data removed]",
      "text/plain": [
       "<Figure size 432x288 with 1 Axes>"
      ]
     },
     "metadata": {
      "needs_background": "light"
     },
     "output_type": "display_data"
    }
   ],
   "source": [
    "import numpy as np\n",
    "import scipy.interpolate\n",
    "from matplotlib.pyplot import plot, legend\n",
    "\n",
    "curve_tenors = np.array([1/12, 1/6, 0.25, 0.5, 1.0, 2.0, 3.0, 4.0, 5.0, 6.0, 7.0, 8.0, 9.0, 10.0, 15.0, 20.0, 30.0])\n",
    "curve_rates = np.array([-0.700, -0.750, -0.700, -0.580, -0.600, -0.375, -0.194, -0.120, -0.008, -0.004, 0.165, 0.225, 0.301, 0.355, 0.491, 0.489, 0.473])*1e-2\n",
    "\n",
    "plot(curve_tenors, curve_rates + 1e-3, label = 'r + dr')\n",
    "plot(curve_tenors, curve_rates, label = 'r')\n",
    "plot(curve_tenors, curve_rates - 1e-3, label = 'r - dr')\n",
    "legend()"
   ]
  },
  {
   "cell_type": "code",
   "execution_count": 2,
   "metadata": {},
   "outputs": [],
   "source": [
    "f = scipy.interpolate.interp1d(curve_tenors, curve_rates, kind = 'cubic')"
   ]
  },
  {
   "cell_type": "code",
   "execution_count": 3,
   "metadata": {},
   "outputs": [
    {
     "data": {
      "text/plain": [
       "'CH0344958498'"
      ]
     },
     "execution_count": 3,
     "metadata": {},
     "output_type": "execute_result"
    }
   ],
   "source": [
    "def getBond(email):\n",
    "    import hashlib\n",
    "    h = int(hashlib.sha1(email.encode('utf-8')).hexdigest(), 16)\n",
    "    bonds = ['CH0184249990', 'CH0344958688', 'CH0344958498']\n",
    "    return bonds[h % len(bonds)]\n",
    "getBond('yadunaew@gmail.com')"
   ]
  },
  {
   "cell_type": "markdown",
   "metadata": {},
   "source": [
    "Interest rate: 0.50% \n",
    "Maturity: 28.06.2045\n",
    "Amount: CHF 222.550 million (0 million own tranche)\n",
    "Issue price: 111.90%\n",
    "Yield p.a.: -0.001%\n",
    "Total bids: CHF 258.550 million\n",
    "Allotment in last price category: 100%\n",
    "Offers without price details: CHF 106.850 million\n",
    "Settlement: 22.09.2021\n",
    "ISIN no. (until settlement): CH0557778385\n",
    "Fungible with ISIN no.: CH0344958498"
   ]
  },
  {
   "cell_type": "code",
   "execution_count": 4,
   "metadata": {},
   "outputs": [
    {
     "data": {
      "text/plain": [
       "Timedelta('279 days 00:00:00')"
      ]
     },
     "execution_count": 4,
     "metadata": {},
     "output_type": "execute_result"
    }
   ],
   "source": [
    "import numpy as np\n",
    "import scipy.optimize\n",
    "import scipy.interpolate\n",
    "import matplotlib.pyplot as pt\n",
    "import pandas as pd\n",
    "\n",
    "pd.to_datetime('06.28.2022')-pd.to_datetime('09.22.2021')\n"
   ]
  },
  {
   "cell_type": "code",
   "execution_count": 5,
   "metadata": {},
   "outputs": [
    {
     "data": {
      "text/plain": [
       "(array(-0.00673673), 1119.0000005840202)"
      ]
     },
     "execution_count": 5,
     "metadata": {},
     "output_type": "execute_result"
    }
   ],
   "source": [
    "days_old = np.array([279, 360, 360, 360, 360, 360, 360, 360, 360, 360 ]) \n",
    "payments_old = np.array([5/360*279, 5, 5, 5, 5, 5, 5, 5, 5, 1005])\n",
    "\n",
    "Price = 1.119*1000\n",
    "\n",
    "def pv_ytm(days, payments, ytm):\n",
    "    days = np.cumsum(days) / 360\n",
    "    df = np.power(1.0 / (ytm + 1.0), days)\n",
    "    return np.sum(payments*df)\n",
    "\n",
    "ytm = scipy.optimize.broyden1( lambda x: (pv_ytm(days_old, payments_old, x) - Price), 0.005)\n",
    "ytm, pv_ytm(days_old, payments_old, ytm)"
   ]
  },
  {
   "cell_type": "code",
   "execution_count": 6,
   "metadata": {},
   "outputs": [
    {
     "data": {
      "text/plain": [
       "8.678032412299222"
      ]
     },
     "execution_count": 6,
     "metadata": {},
     "output_type": "execute_result"
    }
   ],
   "source": [
    "def duration(days, payments, ytm, price):\n",
    "    days = np.cumsum(days) / 360\n",
    "    df = np.power(1.0 / (f(days) + 1.0), days)\n",
    "    return np.sum(payments*df*days) / price\n",
    "duration(days_old, payments_old, ytm, Price)"
   ]
  },
  {
   "cell_type": "code",
   "execution_count": 7,
   "metadata": {},
   "outputs": [
    {
     "data": {
      "text/plain": [
       "8.707361990128641"
      ]
     },
     "execution_count": 7,
     "metadata": {},
     "output_type": "execute_result"
    }
   ],
   "source": [
    "def mod_duration(days, payments, ytm, price):\n",
    "    days = np.cumsum(days) / 360\n",
    "    df = np.power(1.0 / (f(days) + 1.0), days)\n",
    "    return np.sum(payments*df*days) / price / (1 + ytm/2)\n",
    "mod_duration(days_old, payments_old, ytm, Price)"
   ]
  },
  {
   "cell_type": "code",
   "execution_count": 8,
   "metadata": {},
   "outputs": [
    {
     "data": {
      "text/plain": [
       "0.9743538066953951"
      ]
     },
     "execution_count": 8,
     "metadata": {},
     "output_type": "execute_result"
    }
   ],
   "source": [
    "dv01 = mod_duration(days_old, payments_old, ytm, Price)*Price*1e-4\n",
    "dv01"
   ]
  },
  {
   "cell_type": "code",
   "execution_count": 9,
   "metadata": {
    "scrolled": false
   },
   "outputs": [
    {
     "data": {
      "text/plain": [
       "1.0790778466531492"
      ]
     },
     "execution_count": 9,
     "metadata": {},
     "output_type": "execute_result"
    }
   ],
   "source": [
    "dv01_num = 0.5*(pv_ytm(days_old, payments_old, ytm-1e-4) - pv_ytm(days_old, payments_old, ytm+1e-4))\n",
    "dv01_num"
   ]
  },
  {
   "cell_type": "markdown",
   "metadata": {},
   "source": [
    "Ответ: 1.0790778466531492"
   ]
  },
  {
   "cell_type": "markdown",
   "metadata": {
    "id": "KxEGmTvCeH4s"
   },
   "source": [
    "# Задача 2\n",
    "\n",
    "1. Взяв облигацию из предыдущей задачи, захэджировать ее  CH0557778310\n",
    "\n",
    "https://www.efd.admin.ch/efd/en/home/the-fdf/nsb-news_list.msg-id-87527.html\n",
    "\n",
    "\n",
    "Использовать для расчета $DV01$ кривую выше\n",
    "\n",
    "Чему равна $beta$?\n",
    "\n",
    "\n",
    "\n",
    "2. Построить график $PV$ портфеля от величины вертикального сдвига кривой $\\Delta$\n",
    "$$ PV (r; \\Delta) = PV (r_1 + \\Delta, r_2+ \\Delta, r_3+ \\Delta, ..., r_N+ \\Delta) = \\sum \\limits_{i=1}^{N} \\frac{C_i}{(1 + r_i + \\Delta)^{t_i}} $$\n",
    "\n",
    "\n",
    "\n"
   ]
  },
  {
   "cell_type": "markdown",
   "metadata": {},
   "source": [
    "interest rate: 0.25%\n",
    "Maturity: 23.06.2035\n",
    "Amount: CHF 174.000 million (0 million own tranche)\n",
    "Issue price: 98.90%\n",
    "Yield p.a.: 0.335%\n",
    "Total bids: CHF 324.000 million\n",
    "Allotment in last price category: 100%\n",
    "Offers without price details: CHF 66.600 million\n",
    "Settlement: 23.03.2022 \n",
    "ISIN no. (until settlement): CH0557778500\n",
    "Fungible with ISIN no.: CH0557778310"
   ]
  },
  {
   "cell_type": "code",
   "execution_count": 10,
   "metadata": {},
   "outputs": [
    {
     "data": {
      "text/plain": [
       "Timedelta('89 days 00:00:00')"
      ]
     },
     "execution_count": 10,
     "metadata": {},
     "output_type": "execute_result"
    }
   ],
   "source": [
    "pd.to_datetime('06.23.2022')-pd.to_datetime('03.26.2022')"
   ]
  },
  {
   "cell_type": "code",
   "execution_count": 11,
   "metadata": {},
   "outputs": [],
   "source": [
    "days = np.array([89, 91, 91, 91, 91, 91, 91, 91, 91, 91, 91, 91, 91, 91, 91, 91, 91, 91, 91, 91, 91, 91, 91, 91, 91, 91, 91, 91, 91,\n",
    "                 91, 91, 91, 91, 91, 91, 91, 91, 91, 91, 91, 91, 91, 91, 91, 91, 91, 91, 91, 91, 91, 91, 91, 91])\n",
    "payments = np.array([6.11, 6.25, 6.25, 6.25, 6.25, 6.25, 6.25, 6.25, 6.25, 6.25, 6.25, 6.25, 6.25, 6.25, 6.25, 6.25, 6.25, 6.25, 6.25, 6.25, 6.25\n",
    "                   , 6.25, 6.25, 6.25, 6.25, 6.25, 6.25, 6.25, 6.25, 6.25, 6.25, 6.25, 6.25, 6.25, 6.25, 6.25, 6.25, 6.25, 6.25, 6.25, 6.25, 6.25, 6.25, 6.25, 6.25\n",
    "                   , 6.25, 6.25, 6.25, 6.25, 6.25, 6.25, 6.25, 1006.25])"
   ]
  },
  {
   "cell_type": "code",
   "execution_count": 12,
   "metadata": {},
   "outputs": [
    {
     "data": {
      "text/plain": [
       "-0.6281915225514713"
      ]
     },
     "execution_count": 12,
     "metadata": {},
     "output_type": "execute_result"
    }
   ],
   "source": [
    "dv01_hedge = 0.5*(pv_ytm(days, payments, ytm-1e-4) - pv_ytm(days, payments, ytm+1e-4))\n",
    "beta = - dv01_num / dv01_hedge\n",
    "beta"
   ]
  },
  {
   "cell_type": "code",
   "execution_count": 15,
   "metadata": {},
   "outputs": [
    {
     "data": {
      "text/plain": [
       "[<matplotlib.lines.Line2D at 0x7fa4daa673d0>]"
      ]
     },
     "execution_count": 15,
     "metadata": {},
     "output_type": "execute_result"
    },
    {
     "data": {
      "image/png": "[encoded data removed]",
      "text/plain": [
       "<Figure size 432x288 with 1 Axes>"
      ]
     },
     "metadata": {
      "needs_background": "light"
     },
     "output_type": "display_data"
    }
   ],
   "source": [
    "r = np.arange(ytm-0.1, ytm+0.1, 1e-3)\n",
    "pv = []\n",
    "pv_trade = [] \n",
    "for y in r:\n",
    "    pv+=[pv_ytm(days, payments, y) + beta * pv_ytm(days_old, payments_old, y)]\n",
    "    pv_trade += [pv_ytm(days, payments, y)]\n",
    "pt.plot(r, pv)"
   ]
  },
  {
   "cell_type": "code",
   "execution_count": 16,
   "metadata": {},
   "outputs": [
    {
     "data": {
      "text/plain": [
       "[<matplotlib.lines.Line2D at 0x7fa4dab57310>]"
      ]
     },
     "execution_count": 16,
     "metadata": {},
     "output_type": "execute_result"
    },
    {
     "data": {
      "image/png": "[encoded data removed]",
      "text/plain": [
       "<Figure size 432x288 with 1 Axes>"
      ]
     },
     "metadata": {
      "needs_background": "light"
     },
     "output_type": "display_data"
    }
   ],
   "source": [
    "pt.plot(r, pv_trade)"
   ]
  },
  {
   "cell_type": "code",
   "execution_count": null,
   "metadata": {},
   "outputs": [],
   "source": []
  }
 ],
 "metadata": {
  "colab": {
   "name": "bonds_risks_hw_2021.ipynb",
   "provenance": []
  },
  "kernelspec": {
   "display_name": "Python 3 (ipykernel)",
   "language": "python",
   "name": "python3"
  },
  "language_info": {
   "codemirror_mode": {
    "name": "ipython",
    "version": 3
   },
   "file_extension": ".py",
   "mimetype": "text/x-python",
   "name": "python",
   "nbconvert_exporter": "python",
   "pygments_lexer": "ipython3",
   "version": "3.9.2"
  }
 },
 "nbformat": 4,
 "nbformat_minor": 1
}
