{
 "cells": [
  {
   "cell_type": "markdown",
   "metadata": {
    "id": "Q8lNp-nZ1vNv"
   },
   "source": [
    "\n",
    "# Задача к лекции \"Построение кривых доходности\"\n"
   ]
  },
  {
   "cell_type": "markdown",
   "metadata": {
    "id": "75a79Qsb1vON"
   },
   "source": [
    "Построить кривую бенчмарка до 5 лет.  Цены свопов взять по ссылке ниже\n",
    "https://www.chathamfinancial.com/technology/european-market-rates#view \n",
    "\n",
    "Чтобы получить свой вариант - подставьте почту в функцию ниже\n",
    "\n",
    "\n",
    "Текущее значение бечмарков по ссылкам ниже\n",
    "\n",
    "NIBOR https://most.referanserenter.no/nibor-rates.html\n",
    "\n",
    "STIBOR https://swfbf.se/sfbf-benchmarks/rates/\n",
    "\n",
    "CIBOR https://dfbf.dk/dfbf-benchmarks/rates/\n"
   ]
  },
  {
   "cell_type": "code",
   "execution_count": 20,
   "metadata": {
    "colab": {
     "base_uri": "https://localhost:8080/",
     "height": 35
    },
    "id": "ztfKWxSH1vOS",
    "outputId": "9ec1ed5e-fa58-4b20-a949-8a8439dbb4c4",
    "scrolled": true
   },
   "outputs": [
    {
     "data": {
      "text/plain": [
       "'CIBOR'"
      ]
     },
     "execution_count": 20,
     "metadata": {},
     "output_type": "execute_result"
    }
   ],
   "source": [
    "def getBenchmark(email):\n",
    "  import hashlib\n",
    "  ccy = [ 'NIBOR', 'STIBOR', 'CIBOR']\n",
    "  h = int(hashlib.sha1(email.encode('utf-8')).hexdigest(), 16)\n",
    "  return ccy[h % 4]\n",
    "getBenchmark('yadunaew@gmail.com')"
   ]
  },
  {
   "cell_type": "markdown",
   "metadata": {
    "id": "kY4jWS9B1vOb"
   },
   "source": [
    "Для честной цены однолетнего свопа использовать формулу \n",
    "\n",
    "\n",
    "$$ \\frac{Price}{4} (DF_{3m} + DF_{6m} + DF_{9m} + DF_{12m}) = \\frac{1}{4}\\left( Benchmark_{3M}(0)\\cdot DF_{3m} + Benchmark_{3M}(3)\\cdot DF_{6m} + Benchmark_{3M}(6)\\cdot DF_{9m} + Benchmark_{3M}(9) \\cdot DF_{12m}     \\right) $$\n",
    "\n",
    "$ Benchmark_{3M}(0) $ текущее значение 3М бенчмарка. \n",
    "\n",
    "$ Benchmark_{3M}(3,6,9)$ неизвестны. \n",
    "\n",
    "$ DF_{3m} = \\frac{1}{1 + 0.25\\cdot Benchmark_{3M}(0)}$\n",
    "\n",
    "$ DF_{6m} = \\frac{DF_{3m}}{1 + 0.5\\cdot Benchmark_{3M}(3)}$\n",
    "\n",
    "$ DF_{9m} = \\frac{DF_{6m}}{1 + 0.75\\cdot Benchmark_{3M}(6)}$\n",
    "\n",
    "$ DF_{12m} = \\frac{DF_{9m}}{1 + \\cdot Benchmark_{3M}(9)}$\n",
    "\n",
    "\n",
    "Построить используя интерпорялцию сплайнами\n"
   ]
  },
  {
   "cell_type": "code",
   "execution_count": 21,
   "metadata": {},
   "outputs": [],
   "source": [
    "import numpy as np\n",
    "import matplotlib.pyplot as plt\n",
    "import scipy.interpolate\n",
    "import scipy.optimize"
   ]
  },
  {
   "cell_type": "code",
   "execution_count": 22,
   "metadata": {},
   "outputs": [],
   "source": [
    "S2 = 0.450e-2\n",
    "S3 = 0.664e-2\n",
    "S5 = 0.885e-2"
   ]
  },
  {
   "cell_type": "code",
   "execution_count": 23,
   "metadata": {
    "scrolled": true
   },
   "outputs": [],
   "source": [
    "L3 = -0.24e-3\n",
    "L6 = -0.1033e-3\n",
    "L12 = 0.18e-3\n",
    "\n",
    "L3_6 = 4.0*(-L3 + 2.0*L6)/(L3 + 4.0)\n",
    "\n",
    "def implyD12(L3, L3_6, x):\n",
    "    f = scipy.interpolate.interp1d([3,6,12], [L3,L3_6,x], 'quadratic')\n",
    "    L6_9 = f(9)\n",
    "    D3 = 1/(1 + 0.25*L3)\n",
    "    D6 = D3/(1 + 0.25*L3_6)\n",
    "    D9 = D6/(1 + 0.25*L6_9)\n",
    "    D12 = D9/(1 + 0.25*x)\n",
    "    return D12 \n",
    "\n",
    "D12 = 1 / (1 + L12)\n",
    "L9_12 = scipy.optimize.broyden1(lambda x: implyD12(L3,L3_6,x) - D12,\n",
    "                                1.0, f_tol=1e-6)#т.к  юзаем формулу из первой ячейки\n",
    "f = scipy.interpolate.interp1d([3,6,12], [L3,L3_6,L9_12], 'quadratic')#пропустили L6_9, ее восстановим\n",
    "tenors1Y = [3,6,9,12]\n",
    "curve1Y = f(tenors1Y)"
   ]
  },
  {
   "cell_type": "markdown",
   "metadata": {},
   "source": [
    "для одного года готово"
   ]
  },
  {
   "cell_type": "code",
   "execution_count": 24,
   "metadata": {},
   "outputs": [
    {
     "data": {
      "text/plain": [
       "[<matplotlib.lines.Line2D at 0x7f960dc6bfd0>]"
      ]
     },
     "execution_count": 24,
     "metadata": {},
     "output_type": "execute_result"
    },
    {
     "data": {
      "image/png": "[encoded data removed]",
      "text/plain": [
       "<Figure size 432x288 with 1 Axes>"
      ]
     },
     "metadata": {
      "needs_background": "light"
     },
     "output_type": "display_data"
    }
   ],
   "source": [
    "def F(x, S2, L):\n",
    "    D3 = 1/(1 + 0.25*L[0])\n",
    "    D6 = D3/(1 + 0.25*L[1])\n",
    "    D9 = D6/(1 + 0.25*L[2])\n",
    "    D12 = D9/(1 + 0.25*L[3])\n",
    "    f = scipy.interpolate.interp1d([3,6,9,12,24], \n",
    "                                   np.append(L,x), 'cubic')\n",
    "    D15 = D12/(1 + 0.25*f(15))\n",
    "    D18 = D15/(1 + 0.25*f(18))\n",
    "    D21 = D18/(1 + 0.25*f(21))\n",
    "    D24 = D21/(1 + 0.25*x)\n",
    "    return 0.5*S2*(D6 + D12 + D18 + D24) - 1 + D24\n",
    "\n",
    "L24 = scipy.optimize.broyden1(lambda x: F(x,S2,curve1Y), 1.0, f_tol=1e-6)\n",
    "f = scipy.interpolate.interp1d([3,6,9,12,24], np.append(curve1Y, L24)\n",
    "                               , 'cubic')\n",
    "tenors = [3,6,9,12,15,18,21,24]\n",
    "curve = f(tenors)\n",
    "plt.plot(tenors, curve)"
   ]
  },
  {
   "cell_type": "markdown",
   "metadata": {},
   "source": [
    "для двух лет готово"
   ]
  },
  {
   "cell_type": "code",
   "execution_count": 25,
   "metadata": {},
   "outputs": [
    {
     "data": {
      "text/plain": [
       "array([-2.40000000e-04,  3.34020041e-05,  3.16701621e-04,  6.09898852e-04,\n",
       "        1.68296966e-03,  4.49838400e-03,  1.00186118e-02,  1.92061231e-02])"
      ]
     },
     "execution_count": 25,
     "metadata": {},
     "output_type": "execute_result"
    }
   ],
   "source": [
    "curve"
   ]
  },
  {
   "cell_type": "code",
   "execution_count": 26,
   "metadata": {},
   "outputs": [
    {
     "data": {
      "text/plain": [
       "[<matplotlib.lines.Line2D at 0x7f960dd60e50>]"
      ]
     },
     "execution_count": 26,
     "metadata": {},
     "output_type": "execute_result"
    },
    {
     "data": {
      "image/png": "[encoded data removed]",
      "text/plain": [
       "<Figure size 432x288 with 1 Axes>"
      ]
     },
     "metadata": {
      "needs_background": "light"
     },
     "output_type": "display_data"
    }
   ],
   "source": [
    "def F(x, S3, L):\n",
    "    D15 = 1/(1 + 0.25*L[4+0])\n",
    "    D18 = D15/(1 + 0.25*L[4+1])\n",
    "    D21 = D18/(1 + 0.25*L[4+2])\n",
    "    D24 = D21/(1 + 0.25*L[4+3])\n",
    "    #print(L, [3,6,9,12,24,36])\n",
    "    f = scipy.interpolate.interp1d([3,6,9,12,15,18,21,24,36], \n",
    "                                   np.append(L,x), 'cubic')\n",
    "    D27 = D24/(1 + 0.25*f(27))\n",
    "    D30 = D27/(1 + 0.25*f(30))\n",
    "    D33 = D30/(1 + 0.25*f(33))\n",
    "    D36 = D33/(1 + 0.25*x)\n",
    "    return 0.5*S3*(D18 + D24 + D30 + D36) - 1 + D36\n",
    "\n",
    "L36 = scipy.optimize.broyden1(lambda x: F(x,S3,curve), 1.0, f_tol=1e-6)\n",
    "f = scipy.interpolate.interp1d([3,6,9,12,15,18,21,24,36], np.append(curve, L36)\n",
    "                               , 'cubic')\n",
    "tenors = [3,6,9,12,15,18,21,24,27,30,33,36]\n",
    "curve = f(tenors)\n",
    "plt.plot(tenors, curve)"
   ]
  },
  {
   "cell_type": "code",
   "execution_count": 27,
   "metadata": {},
   "outputs": [
    {
     "data": {
      "text/plain": [
       "array([-2.40000000e-04,  3.34020041e-05,  3.16701621e-04,  6.09898852e-04,\n",
       "        1.68296966e-03,  4.49838400e-03,  1.00186118e-02,  1.92061231e-02,\n",
       "        2.64149244e-02,  2.42282929e-02,  5.22950597e-03, -3.79981592e-02])"
      ]
     },
     "execution_count": 27,
     "metadata": {},
     "output_type": "execute_result"
    }
   ],
   "source": [
    "curve"
   ]
  },
  {
   "cell_type": "code",
   "execution_count": 28,
   "metadata": {},
   "outputs": [
    {
     "data": {
      "text/plain": [
       "[<matplotlib.lines.Line2D at 0x7f960de60670>]"
      ]
     },
     "execution_count": 28,
     "metadata": {},
     "output_type": "execute_result"
    },
    {
     "data": {
      "image/png": "[encoded data removed]",
      "text/plain": [
       "<Figure size 432x288 with 1 Axes>"
      ]
     },
     "metadata": {
      "needs_background": "light"
     },
     "output_type": "display_data"
    }
   ],
   "source": [
    "def F(x, S5, L):\n",
    "    D27 = 1/(1 + 0.25*L[4*2+0])\n",
    "    D30 = D27/(1 + 0.25*L[4*2+1])\n",
    "    D33 = D30/(1 + 0.25*L[4*2+2])\n",
    "    D36 = D33/(1 + 0.25*L[4*2+3])\n",
    "    f = scipy.interpolate.interp1d([3,6,9,12,15,18,21,24,27,30,33,36,60], \n",
    "                                   np.append(L,x), 'cubic')\n",
    "    D39 = D36/(1 + 0.25*f(39))\n",
    "    D42 = D39/(1 + 0.25*f(42))\n",
    "    D45 = D42/(1 + 0.25*f(45))\n",
    "    D48 = D45/(1 + 0.25*f(48))\n",
    "    D51 = D48/(1 + 0.25*f(51))\n",
    "    D54 = D51/(1 + 0.25*f(54))\n",
    "    D57 = D54/(1 + 0.25*f(57))\n",
    "    D60 = D57/(1 + 0.25*x)\n",
    "    return 0.5*S5*(D42 + D45 + D57 + D60) - 1 + D60\n",
    "\n",
    "\n",
    "L60 = scipy.optimize.broyden1(lambda x: F(x,S5,curve), 1.0, f_tol=1e-6)\n",
    "f = scipy.interpolate.interp1d([3,6,9,12,15,18,21,24,27,30,33,36,60], np.append(curve, L60)\n",
    "                               , 'cubic')\n",
    "tenors = [3,6,9,12,15,18,21,24,27,30,33,36,39,42,45,48,51,54,57,60]\n",
    "curve = f(tenors)\n",
    "plt.plot(tenors, curve)"
   ]
  },
  {
   "cell_type": "code",
   "execution_count": null,
   "metadata": {},
   "outputs": [],
   "source": []
  }
 ],
 "metadata": {
  "colab": {
   "name": "2021_CurveBuilding_Tasks.ipynb",
   "provenance": []
  },
  "kernelspec": {
   "display_name": "Python 3 (ipykernel)",
   "language": "python",
   "name": "python3"
  },
  "language_info": {
   "codemirror_mode": {
    "name": "ipython",
    "version": 3
   },
   "file_extension": ".py",
   "mimetype": "text/x-python",
   "name": "python",
   "nbconvert_exporter": "python",
   "pygments_lexer": "ipython3",
   "version": "3.9.2"
  },
  "name": "L3_bootstrapping.ipynb"
 },
 "nbformat": 4,
 "nbformat_minor": 1
}
